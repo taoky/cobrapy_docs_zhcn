{
 "cells": [
  {
   "cell_type": "markdown",
   "metadata": {},
   "source": [
    "# 求解器"
   ]
  },
  {
   "cell_type": "markdown",
   "metadata": {
    "deletable": true,
    "editable": true
   },
   "source": [
    "一个基于约束的、为生物系统设计的重建和分析模型只是离散优化问题的一种应用，这类问题一般是 [线性, 混合整数规划](https://en.wikipedia.org/wiki/Linear_programming) 或者 [二次规划](https://en.wikipedia.org/wiki/Quadratic_programming) 技术. Cobrapy 不实现任何求解这种问题的算法，而是创建一个使用这些技术的生物驱动的抽象，不关注这些问题如何转换成优化问题，让思考代谢系统更简单.\n",
    "\n",
    "实际的求解过程由工具完成，比如说自由软件 [glpk](https://www.gnu.org/software/glpk/) 或是商业的 [gurobi](http://www.gurobi.com/) 和 [cplex](https://www-01.ibm.com/software/commerce/optimization/cplex-optimizer/)，它们通过 [optlang](https://github.com/biosustain/optlang) 软件包对普通程序员暴露（统一的）接口.\n",
    "\n",
    "你在定义模型时, 通过赋值 `model.solver` 属性，可以切换求解器后端."
   ]
  },
  {
   "cell_type": "code",
   "execution_count": 1,
   "metadata": {
    "collapsed": false,
    "deletable": true,
    "editable": true
   },
   "outputs": [],
   "source": [
    "import cobra.test\n",
    "model = cobra.test.create_test_model('textbook')"
   ]
  },
  {
   "cell_type": "code",
   "execution_count": 2,
   "metadata": {
    "collapsed": false,
    "deletable": true,
    "editable": true
   },
   "outputs": [],
   "source": [
    "model.solver = 'glpk'\n",
    "# or if you have cplex installed\n",
    "model.solver = 'cplex'"
   ]
  },
  {
   "cell_type": "markdown",
   "metadata": {
    "deletable": true,
    "editable": true
   },
   "source": [
    "关于如何配置、调优求解器的更多信息, 请看 [optlang 项目文档](http://optlang.readthedocs.io) 并注意 `model.solver` 只是一个 `Model` 类的 optlang 对象."
   ]
  },
  {
   "cell_type": "code",
   "execution_count": 3,
   "metadata": {
    "collapsed": false,
    "deletable": true,
    "editable": true
   },
   "outputs": [
    {
     "data": {
      "text/plain": [
       "optlang.cplex_interface.Model"
      ]
     },
     "execution_count": 3,
     "metadata": {},
     "output_type": "execute_result"
    }
   ],
   "source": [
    "type(model.solver)"
   ]
  },
  {
   "cell_type": "markdown",
   "metadata": {
    "deletable": true,
    "editable": true
   },
   "source": [
    "## 内部求解器接口"
   ]
  },
  {
   "cell_type": "markdown",
   "metadata": {
    "deletable": true,
    "editable": true
   },
   "source": [
    "Cobrapy 也包含了一个自己的求解器接口，但是现在被弃用了，以后会彻底删掉. 关于使用它的方式, 请参考 [老旧文档](http://cobrapy.readthedocs.io/en/0.5.11/)."
   ]
  }
 ],
 "metadata": {
  "kernelspec": {
   "display_name": "Python 3",
   "language": "python",
   "name": "python3"
  },
  "language_info": {
   "codemirror_mode": {
    "name": "ipython",
    "version": 3
   },
   "file_extension": ".py",
   "mimetype": "text/x-python",
   "name": "python",
   "nbconvert_exporter": "python",
   "pygments_lexer": "ipython3",
   "version": "3.7.1"
  }
 },
 "nbformat": 4,
 "nbformat_minor": 2
}
